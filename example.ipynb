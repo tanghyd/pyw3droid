{
 "cells": [
  {
   "cell_type": "code",
   "execution_count": 1,
   "metadata": {},
   "outputs": [],
   "source": [
    "%load_ext autoreload\n",
    "%autoreload 2"
   ]
  },
  {
   "cell_type": "code",
   "execution_count": 6,
   "metadata": {},
   "outputs": [],
   "source": [
    "import gym\n",
    "import w3droid"
   ]
  },
  {
   "cell_type": "code",
   "execution_count": 4,
   "metadata": {},
   "outputs": [],
   "source": [
    "env = w3droid.env.BaseEnv()"
   ]
  },
  {
   "cell_type": "code",
   "execution_count": 13,
   "metadata": {},
   "outputs": [
    {
     "data": {
      "text/plain": [
       "Box(0.0, [1.00000000e+00 1.00000000e+00 1.00000000e+00 1.00000000e+00\n",
       " 1.00000000e+00 1.00000000e+00 1.00000000e+00 1.00000000e+00\n",
       " 1.00000000e+00 1.00000000e+00 1.00000000e+00 1.00000000e+00\n",
       " 1.00000000e+00 1.00000000e+00 1.00000000e+00 1.00000000e+00\n",
       " 1.00000000e+00 1.00000000e+00 1.00000000e+00 1.00000000e+00\n",
       " 1.00000000e+00 1.00000000e+00 1.00000000e+00 1.00000000e+00\n",
       " 1.00000000e+00 1.00000000e+00 1.00000000e+00 1.00000000e+00\n",
       " 1.00000000e+00 1.00000000e+00 1.00000000e+00 1.00000000e+00\n",
       " 1.00000000e+00 1.00000000e+00 1.00000000e+00 1.00000000e+00\n",
       " 1.00000000e+00 1.00000000e+00 1.00000000e+00 1.00000000e+00\n",
       " 1.00000000e+00 1.00000000e+00 1.00000000e+00 1.00000000e+00\n",
       " 1.00000000e+00 1.00000000e+00 1.00000000e+00 1.00000000e+00\n",
       " 1.00000000e+00 1.00000000e+00 1.00000000e+00 1.00000000e+00\n",
       " 1.00000000e+00 1.00000000e+00 1.00000000e+00 1.00000000e+00\n",
       " 1.00000000e+00 1.00000000e+00 1.00000000e+00 1.00000000e+00\n",
       " 1.00000000e+00 1.00000000e+00 1.00000000e+00 1.00000000e+00\n",
       " 1.00000000e+00 1.00000000e+00 1.00000000e+00 9.99999023e+03\n",
       " 1.00000000e+00 1.00000000e+00 1.00000000e+00 1.00000000e+00\n",
       " 1.00000000e+00 1.00000000e+00 1.00000000e+00 1.00000000e+00\n",
       " 1.00000000e+00 1.00000000e+00 1.00000000e+00 1.00000000e+00\n",
       " 1.00000000e+00 1.00000000e+00 1.00000000e+00 1.00000000e+00\n",
       " 1.00000000e+00 1.00000000e+00 1.00000000e+00 1.00000000e+00\n",
       " 1.00000000e+00], (89,), float64)"
      ]
     },
     "execution_count": 13,
     "metadata": {},
     "output_type": "execute_result"
    }
   ],
   "source": [
    "# print out arbitrary example observation_space\n",
    "env.observation_space"
   ]
  },
  {
   "cell_type": "code",
   "execution_count": 14,
   "metadata": {},
   "outputs": [
    {
     "data": {
      "text/plain": [
       "Dict('action_type': Discrete(5), 'delay': Box(0.0, 5.0, (1,), float32), 'queued': Discrete(2), 'repeat': Discrete(3), 'selected_units': Discrete(5), 'target': MultiDiscrete([2 3]))"
      ]
     },
     "execution_count": 14,
     "metadata": {},
     "output_type": "execute_result"
    }
   ],
   "source": [
    "# print out arbitrary example action_space\n",
    "env.action_space"
   ]
  },
  {
   "cell_type": "code",
   "execution_count": 15,
   "metadata": {},
   "outputs": [
    {
     "data": {
      "text/plain": [
       "Box(0.0, [1.00000000e+00 1.00000000e+00 1.00000000e+00 1.00000000e+00\n",
       " 1.00000000e+00 1.00000000e+00 1.00000000e+00 1.00000000e+00\n",
       " 1.00000000e+00 1.00000000e+00 1.00000000e+00 1.00000000e+00\n",
       " 1.00000000e+00 1.00000000e+00 1.00000000e+00 1.00000000e+00\n",
       " 1.00000000e+00 1.00000000e+00 1.00000000e+00 1.00000000e+00\n",
       " 1.00000000e+00 1.00000000e+00 1.00000000e+00 1.00000000e+00\n",
       " 1.00000000e+00 1.00000000e+00 1.00000000e+00 1.00000000e+00\n",
       " 1.00000000e+00 1.00000000e+00 1.00000000e+00 1.00000000e+00\n",
       " 1.00000000e+00 1.00000000e+00 1.00000000e+00 1.00000000e+00\n",
       " 1.00000000e+00 1.00000000e+00 1.00000000e+00 1.00000000e+00\n",
       " 1.00000000e+00 1.00000000e+00 1.00000000e+00 1.00000000e+00\n",
       " 1.00000000e+00 1.00000000e+00 1.00000000e+00 1.00000000e+00\n",
       " 1.00000000e+00 1.00000000e+00 1.00000000e+00 1.00000000e+00\n",
       " 1.00000000e+00 1.00000000e+00 1.00000000e+00 1.00000000e+00\n",
       " 1.00000000e+00 1.00000000e+00 1.00000000e+00 1.00000000e+00\n",
       " 1.00000000e+00 1.00000000e+00 1.00000000e+00 1.00000000e+00\n",
       " 1.00000000e+00 1.00000000e+00 1.00000000e+00 9.99999023e+03\n",
       " 1.00000000e+00 1.00000000e+00 1.00000000e+00 1.00000000e+00\n",
       " 1.00000000e+00 1.00000000e+00 1.00000000e+00 1.00000000e+00\n",
       " 1.00000000e+00 1.00000000e+00 1.00000000e+00 1.00000000e+00\n",
       " 1.00000000e+00 1.00000000e+00 1.00000000e+00 1.00000000e+00\n",
       " 1.00000000e+00 1.00000000e+00 1.00000000e+00 1.00000000e+00\n",
       " 1.00000000e+00], (89,), float64)"
      ]
     },
     "execution_count": 15,
     "metadata": {},
     "output_type": "execute_result"
    }
   ],
   "source": [
    "env = gym.wrappers.FlattenObservation(env)\n",
    "env.observation_space"
   ]
  },
  {
   "cell_type": "code",
   "execution_count": null,
   "metadata": {},
   "outputs": [],
   "source": [
    "### Pseudocode\n",
    "\n",
    "# model = w3droid.model.Model()\n",
    "# done = False\n",
    "# observation = env.reset()\n",
    "# while not done:\n",
    "#     action = model(observation)\n",
    "#     observation, reward, done = env.step(action)\n",
    "\n",
    "    # continue training code"
   ]
  }
 ],
 "metadata": {
  "kernelspec": {
   "display_name": "w3droid",
   "language": "python",
   "name": "w3droid"
  },
  "language_info": {
   "codemirror_mode": {
    "name": "ipython",
    "version": 3
   },
   "file_extension": ".py",
   "mimetype": "text/x-python",
   "name": "python",
   "nbconvert_exporter": "python",
   "pygments_lexer": "ipython3",
   "version": "3.10.1"
  },
  "orig_nbformat": 4,
  "vscode": {
   "interpreter": {
    "hash": "9e7fe32fdf562b55f7938ec181ae2f8c2bfa8b60e653c7e9606633f3e5f2cc12"
   }
  }
 },
 "nbformat": 4,
 "nbformat_minor": 2
}
